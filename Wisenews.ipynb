{
 "cells": [
  {
   "cell_type": "code",
   "execution_count": 1,
   "metadata": {},
   "outputs": [],
   "source": [
    "from wisenews import WiseNewsScraper, WisenewsDateRanges, Keywords"
   ]
  },
  {
   "cell_type": "code",
   "execution_count": 2,
   "metadata": {},
   "outputs": [
    {
     "name": "stderr",
     "output_type": "stream",
     "text": [
      "2020-04-20 09:17:16 - /home/cathug/csrp/wisenews.py - root - INFO - Initializing WisenewsScraper.\n",
      "2020-04-20 09:17:28 - /home/cathug/csrp/wisenews.py - root - INFO - Logged in to HKU Library.\n",
      "2020-04-20 09:17:30 - /home/cathug/csrp/wisenews.py - root - INFO - Accessed WiseNews Portal.\n",
      "2020-04-20 09:17:38 - /home/cathug/csrp/wisenews.py - root - INFO - Set Search Parameters.\n"
     ]
    }
   ],
   "source": [
    "w = WiseNewsScraper()\n",
    "w.login_hku_library()\n",
    "w.get_wisenews_portal()\n",
    "w.search_local_news(keywords=Keywords.CSRP.terms, news_section=None)"
   ]
  },
  {
   "cell_type": "code",
   "execution_count": 3,
   "metadata": {
    "scrolled": false
   },
   "outputs": [
    {
     "name": "stderr",
     "output_type": "stream",
     "text": [
      "2020-04-20 09:18:03 - /home/cathug/csrp/wisenews.py - root - INFO - Sending complete.\n",
      "2020-04-20 09:18:04 - /home/cathug/csrp/wisenews.py - root - INFO - Log out of Wisenews\n",
      "2020-04-20 09:18:05 - /home/cathug/csrp/wisenews.py - root - INFO - Logged out successfully.\n"
     ]
    }
   ],
   "source": [
    "w.email_news(email_title='CSRP in the News')\n",
    "w.teardown()                  "
   ]
  },
  {
   "cell_type": "code",
   "execution_count": 4,
   "metadata": {
    "scrolled": true
   },
   "outputs": [
    {
     "name": "stderr",
     "output_type": "stream",
     "text": [
      "2020-04-20 09:18:08 - /home/cathug/csrp/wisenews.py - root - INFO - Initializing WisenewsScraper.\n",
      "2020-04-20 09:18:20 - /home/cathug/csrp/wisenews.py - root - INFO - Logged in to HKU Library.\n",
      "2020-04-20 09:18:26 - /home/cathug/csrp/wisenews.py - root - INFO - Accessed WiseNews Portal.\n",
      "2020-04-20 09:18:44 - /home/cathug/csrp/wisenews.py - root - INFO - Set Search Parameters.\n"
     ]
    }
   ],
   "source": [
    "w = WiseNewsScraper()\n",
    "w.login_hku_library()\n",
    "w.get_wisenews_portal()\n",
    "w.search_local_news(keywords=Keywords.SUICIDE.terms)"
   ]
  },
  {
   "cell_type": "code",
   "execution_count": 5,
   "metadata": {
    "scrolled": false
   },
   "outputs": [
    {
     "name": "stderr",
     "output_type": "stream",
     "text": [
      "2020-04-20 09:19:08 - /home/cathug/csrp/wisenews.py - root - INFO - Sending complete.\n",
      "2020-04-20 09:19:08 - /home/cathug/csrp/wisenews.py - root - INFO - Log out of Wisenews\n",
      "2020-04-20 09:19:09 - /home/cathug/csrp/wisenews.py - root - INFO - Logged out successfully.\n"
     ]
    }
   ],
   "source": [
    "w.email_news()\n",
    "w.teardown()"
   ]
  },
  {
   "cell_type": "code",
   "execution_count": null,
   "metadata": {},
   "outputs": [],
   "source": [
    "Keywords.SUICIDE"
   ]
  },
  {
   "cell_type": "code",
   "execution_count": null,
   "metadata": {},
   "outputs": [],
   "source": []
  },
  {
   "cell_type": "code",
   "execution_count": null,
   "metadata": {},
   "outputs": [],
   "source": []
  },
  {
   "cell_type": "code",
   "execution_count": null,
   "metadata": {},
   "outputs": [],
   "source": [
    "w = WiseNewsScraper()\n",
    "w.login_hku_library()\n",
    "w.get_wisenews_portal()\n",
    "w.search_local_news(\n",
    "    date_range=WisenewsDateRanges.YEAR_2020,\n",
    "    keywords=Keywords.CSRP.HELIUM.terms)"
   ]
  },
  {
   "cell_type": "code",
   "execution_count": null,
   "metadata": {},
   "outputs": [],
   "source": [
    "w.scrape_local_news()"
   ]
  },
  {
   "cell_type": "code",
   "execution_count": null,
   "metadata": {},
   "outputs": [],
   "source": [
    "w.load_scrapes_into_database(Keywords.CSRP.HELIUM.database_collection)"
   ]
  },
  {
   "cell_type": "code",
   "execution_count": null,
   "metadata": {},
   "outputs": [],
   "source": [
    "w.teardown()"
   ]
  },
  {
   "cell_type": "code",
   "execution_count": null,
   "metadata": {},
   "outputs": [],
   "source": []
  }
 ],
 "metadata": {
  "kernelspec": {
   "display_name": "Python 3",
   "language": "python",
   "name": "python3"
  },
  "language_info": {
   "codemirror_mode": {
    "name": "ipython",
    "version": 3
   },
   "file_extension": ".py",
   "mimetype": "text/x-python",
   "name": "python",
   "nbconvert_exporter": "python",
   "pygments_lexer": "ipython3",
   "version": "3.7.4"
  }
 },
 "nbformat": 4,
 "nbformat_minor": 2
}
