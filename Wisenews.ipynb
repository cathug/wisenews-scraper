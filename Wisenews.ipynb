{
 "cells": [
  {
   "cell_type": "code",
   "execution_count": 1,
   "metadata": {},
   "outputs": [],
   "source": [
    "from wisenews import WiseNewsScraper, WisenewsDateRanges, Keywords"
   ]
  },
  {
   "cell_type": "code",
   "execution_count": 2,
   "metadata": {},
   "outputs": [
    {
     "name": "stderr",
     "output_type": "stream",
     "text": [
      "2020-07-29 10:45:03 - /home/cathug/csrp/wisenews-scraper/wisenews.py - root - INFO - Initializing WisenewsScraper.\n",
      "2020-07-29 10:45:16 - /home/cathug/csrp/wisenews-scraper/wisenews.py - root - INFO - Logged in to HKU Library.\n",
      "2020-07-29 10:45:19 - /home/cathug/csrp/wisenews-scraper/wisenews.py - root - INFO - Accessed WiseNews Portal.\n",
      "2020-07-29 10:46:26 - /home/cathug/csrp/wisenews-scraper/wisenews.py - root - INFO - ['Traceback (most recent call last):\\n', '  File \"/home/cathug/csrp/wisenews-scraper/wisenews.py\", line 320, in search_local_news\\n    (By.XPATH, \\'//*[@id=\"popup_alert_layer\"]/div[3]/a\\') ) ).click()\\n', '  File \"/home/cathug/miniconda3/envs/csrp/lib/python3.7/site-packages/selenium/webdriver/support/wait.py\", line 80, in until\\n    raise TimeoutException(message, screen, stacktrace)\\n', 'selenium.common.exceptions.TimeoutException: Message: \\n\\n']\n",
      "2020-07-29 10:46:26 - /home/cathug/csrp/wisenews-scraper/wisenews.py - root - INFO - No popup exists.\n",
      "2020-07-29 10:46:28 - /home/cathug/csrp/wisenews-scraper/wisenews.py - root - INFO - Set Search Parameters.\n"
     ]
    }
   ],
   "source": [
    "w = WiseNewsScraper()\n",
    "w.login_hku_library()\n",
    "w.get_wisenews_portal()\n",
    "w.search_local_news(keywords=Keywords.CSRP.terms, news_section=None)"
   ]
  },
  {
   "cell_type": "code",
   "execution_count": 3,
   "metadata": {},
   "outputs": [
    {
     "name": "stderr",
     "output_type": "stream",
     "text": [
      "2020-07-29 10:48:11 - /home/cathug/csrp/wisenews-scraper/wisenews.py - root - INFO - Sending complete.\n"
     ]
    }
   ],
   "source": [
    "w.email_news(email_title='CSRP in the News')"
   ]
  },
  {
   "cell_type": "code",
   "execution_count": 4,
   "metadata": {
    "scrolled": false
   },
   "outputs": [
    {
     "name": "stderr",
     "output_type": "stream",
     "text": [
      "2020-07-29 10:48:14 - /home/cathug/csrp/wisenews-scraper/wisenews.py - root - INFO - Log out of Wisenews\n",
      "2020-07-29 10:48:15 - /home/cathug/csrp/wisenews-scraper/wisenews.py - root - INFO - Logged out successfully.\n"
     ]
    }
   ],
   "source": [
    "w.teardown()"
   ]
  },
  {
   "cell_type": "code",
   "execution_count": null,
   "metadata": {
    "scrolled": true
   },
   "outputs": [
    {
     "name": "stderr",
     "output_type": "stream",
     "text": [
      "2020-07-29 10:48:18 - /home/cathug/csrp/wisenews-scraper/wisenews.py - root - INFO - Initializing WisenewsScraper.\n",
      "2020-07-29 10:48:31 - /home/cathug/csrp/wisenews-scraper/wisenews.py - root - INFO - Logged in to HKU Library.\n",
      "2020-07-29 10:48:33 - /home/cathug/csrp/wisenews-scraper/wisenews.py - root - INFO - Accessed WiseNews Portal.\n"
     ]
    }
   ],
   "source": [
    "w = WiseNewsScraper()\n",
    "w.login_hku_library()\n",
    "w.get_wisenews_portal()\n",
    "w.search_local_news(keywords=Keywords.SUICIDE.terms)"
   ]
  },
  {
   "cell_type": "code",
   "execution_count": 6,
   "metadata": {
    "scrolled": false
   },
   "outputs": [
    {
     "name": "stderr",
     "output_type": "stream",
     "text": [
      "2020-07-21 09:33:26 - /home/cathug/csrp/wisenews-scraper/wisenews.py - root - INFO - Log out of Wisenews\n",
      "2020-07-21 09:33:27 - /home/cathug/csrp/wisenews-scraper/wisenews.py - root - INFO - Logged out successfully.\n"
     ]
    }
   ],
   "source": [
    "w.email_news()\n",
    "w.teardown()"
   ]
  },
  {
   "cell_type": "code",
   "execution_count": null,
   "metadata": {},
   "outputs": [],
   "source": [
    "Keywords.SUICIDE"
   ]
  },
  {
   "cell_type": "code",
   "execution_count": null,
   "metadata": {},
   "outputs": [],
   "source": []
  },
  {
   "cell_type": "code",
   "execution_count": null,
   "metadata": {},
   "outputs": [],
   "source": []
  },
  {
   "cell_type": "code",
   "execution_count": null,
   "metadata": {},
   "outputs": [],
   "source": [
    "w = WiseNewsScraper()\n",
    "w.login_hku_library()\n",
    "w.get_wisenews_portal()\n",
    "w.search_local_news(\n",
    "    date_range=WisenewsDateRanges.YEAR_2020,\n",
    "    keywords=Keywords.CSRP.HELIUM.terms)"
   ]
  },
  {
   "cell_type": "code",
   "execution_count": null,
   "metadata": {},
   "outputs": [],
   "source": [
    "w.scrape_local_news()"
   ]
  },
  {
   "cell_type": "code",
   "execution_count": null,
   "metadata": {},
   "outputs": [],
   "source": [
    "w.load_scrapes_into_database(Keywords.CSRP.HELIUM.database_collection)"
   ]
  },
  {
   "cell_type": "code",
   "execution_count": null,
   "metadata": {},
   "outputs": [],
   "source": [
    "w.teardown()"
   ]
  },
  {
   "cell_type": "code",
   "execution_count": null,
   "metadata": {},
   "outputs": [],
   "source": []
  }
 ],
 "metadata": {
  "kernelspec": {
   "display_name": "Python 3",
   "language": "python",
   "name": "python3"
  },
  "language_info": {
   "codemirror_mode": {
    "name": "ipython",
    "version": 3
   },
   "file_extension": ".py",
   "mimetype": "text/x-python",
   "name": "python",
   "nbconvert_exporter": "python",
   "pygments_lexer": "ipython3",
   "version": "3.7.7"
  }
 },
 "nbformat": 4,
 "nbformat_minor": 2
}
