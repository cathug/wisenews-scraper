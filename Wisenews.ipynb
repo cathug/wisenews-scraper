{
 "cells": [
  {
   "cell_type": "code",
   "execution_count": 4,
   "metadata": {},
   "outputs": [],
   "source": [
    "from wisenews import WiseNewsScraper, WisenewsDateRanges, Keywords"
   ]
  },
  {
   "cell_type": "code",
   "execution_count": 5,
   "metadata": {},
   "outputs": [
    {
     "name": "stderr",
     "output_type": "stream",
     "text": [
      "2020-08-30 20:47:59 - /home/cathug/csrp/wisenews-scraper/wisenews.py - root - INFO - Initializing WisenewsScraper.\n",
      "2020-08-30 20:48:12 - /home/cathug/csrp/wisenews-scraper/wisenews.py - root - INFO - Logged in to HKU Library.\n"
     ]
    }
   ],
   "source": [
    "w = WiseNewsScraper()\n",
    "w.login_hku_library()"
   ]
  },
  {
   "cell_type": "code",
   "execution_count": 3,
   "metadata": {},
   "outputs": [
    {
     "name": "stderr",
     "output_type": "stream",
     "text": [
      "2020-08-30 20:27:17 - /home/cathug/csrp/wisenews-scraper/wisenews.py - root - INFO - Accessed WiseNews Portal.\n"
     ]
    }
   ],
   "source": [
    "w.get_wisenews_portal()"
   ]
  },
  {
   "cell_type": "code",
   "execution_count": 3,
   "metadata": {
    "scrolled": true
   },
   "outputs": [
    {
     "name": "stderr",
     "output_type": "stream",
     "text": [
      "2020-08-30 19:42:37 - /home/cathug/csrp/wisenews-scraper/wisenews.py - root - INFO - Accessed WiseNews Portal.\n",
      "2020-08-30 19:43:45 - /home/cathug/csrp/wisenews-scraper/wisenews.py - root - INFO - ['Traceback (most recent call last):\\n', '  File \"/home/cathug/csrp/wisenews-scraper/wisenews.py\", line 320, in search_local_news\\n    (By.XPATH, \\'//*[@id=\"popup_alert_layer\"]/div[3]/a\\') ) ).click()\\n', '  File \"/home/cathug/miniconda3/envs/csrp/lib/python3.7/site-packages/selenium/webdriver/support/wait.py\", line 80, in until\\n    raise TimeoutException(message, screen, stacktrace)\\n', 'selenium.common.exceptions.TimeoutException: Message: \\n\\n']\n",
      "2020-08-30 19:43:45 - /home/cathug/csrp/wisenews-scraper/wisenews.py - root - INFO - No popup exists.\n",
      "2020-08-30 19:43:55 - /home/cathug/csrp/wisenews-scraper/wisenews.py - root - INFO - Set Search Parameters.\n"
     ]
    }
   ],
   "source": [
    "w.search_local_news(keywords=Keywords.CSRP.terms, news_section=None)\n",
    "# w.email_news(email_title='CSRP in the News')"
   ]
  },
  {
   "cell_type": "code",
   "execution_count": 4,
   "metadata": {},
   "outputs": [
    {
     "name": "stderr",
     "output_type": "stream",
     "text": [
      "2020-08-30 19:44:18 - /home/cathug/csrp/wisenews-scraper/wisenews.py - root - INFO - Updated Search Parameters.\n",
      "2020-08-30 19:45:18 - /home/cathug/csrp/wisenews-scraper/wisenews.py - root - INFO - ['Traceback (most recent call last):\\n', '  File \"/home/cathug/csrp/wisenews-scraper/wisenews.py\", line 477, in email_news\\n    EC.frame_to_be_available_and_switch_to_it(\\'result-list\\') )\\n', '  File \"/home/cathug/miniconda3/envs/csrp/lib/python3.7/site-packages/selenium/webdriver/support/wait.py\", line 80, in until\\n    raise TimeoutException(message, screen, stacktrace)\\n', 'selenium.common.exceptions.TimeoutException: Message: \\n\\n']\n",
      "2020-08-30 19:45:18 - /home/cathug/csrp/wisenews-scraper/wisenews.py - root - INFO - Bypassing frame switch\n",
      "2020-08-30 19:45:29 - /home/cathug/csrp/wisenews-scraper/wisenews.py - root - INFO - Sending complete.\n"
     ]
    }
   ],
   "source": [
    "w.update_search_local_news(keywords=Keywords.SUICIDE.terms)\n",
    "w.email_news()"
   ]
  },
  {
   "cell_type": "code",
   "execution_count": 5,
   "metadata": {
    "scrolled": false
   },
   "outputs": [
    {
     "name": "stderr",
     "output_type": "stream",
     "text": [
      "2020-08-30 19:45:41 - /home/cathug/csrp/wisenews-scraper/wisenews.py - root - INFO - Log out of Wisenews\n",
      "2020-08-30 19:45:42 - /home/cathug/csrp/wisenews-scraper/wisenews.py - root - INFO - Logged out successfully.\n"
     ]
    }
   ],
   "source": [
    "w.teardown()"
   ]
  },
  {
   "cell_type": "code",
   "execution_count": null,
   "metadata": {},
   "outputs": [],
   "source": []
  },
  {
   "cell_type": "code",
   "execution_count": null,
   "metadata": {},
   "outputs": [],
   "source": []
  },
  {
   "cell_type": "code",
   "execution_count": null,
   "metadata": {},
   "outputs": [],
   "source": [
    "w = WiseNewsScraper()\n",
    "w.login_hku_library()\n",
    "w.get_wisenews_portal()\n",
    "w.search_local_news(\n",
    "    date_range=WisenewsDateRanges.YEAR_2020,\n",
    "    keywords=Keywords.CSRP.HELIUM.terms)"
   ]
  },
  {
   "cell_type": "code",
   "execution_count": null,
   "metadata": {},
   "outputs": [],
   "source": [
    "w.scrape_local_news()"
   ]
  },
  {
   "cell_type": "code",
   "execution_count": null,
   "metadata": {},
   "outputs": [],
   "source": [
    "w.load_scrapes_into_database(Keywords.CSRP.HELIUM.database_collection)"
   ]
  },
  {
   "cell_type": "code",
   "execution_count": null,
   "metadata": {},
   "outputs": [],
   "source": [
    "w.teardown()"
   ]
  },
  {
   "cell_type": "code",
   "execution_count": null,
   "metadata": {},
   "outputs": [],
   "source": []
  }
 ],
 "metadata": {
  "kernelspec": {
   "display_name": "Python 3",
   "language": "python",
   "name": "python3"
  },
  "language_info": {
   "codemirror_mode": {
    "name": "ipython",
    "version": 3
   },
   "file_extension": ".py",
   "mimetype": "text/x-python",
   "name": "python",
   "nbconvert_exporter": "python",
   "pygments_lexer": "ipython3",
   "version": "3.7.7"
  }
 },
 "nbformat": 4,
 "nbformat_minor": 2
}
