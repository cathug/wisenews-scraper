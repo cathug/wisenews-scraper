{
 "cells": [
  {
   "cell_type": "code",
   "execution_count": 1,
   "metadata": {},
   "outputs": [],
   "source": [
    "from wisenews import WiseNewsScraper, WisenewsDateRanges, Keywords"
   ]
  },
  {
   "cell_type": "code",
   "execution_count": 2,
   "metadata": {},
   "outputs": [
    {
     "name": "stderr",
     "output_type": "stream",
     "text": [
      "2020-06-22 08:21:34 - /home/cathug/csrp/wisenews-scraper/wisenews.py - root - INFO - Initializing WisenewsScraper.\n",
      "2020-06-22 08:21:46 - /home/cathug/csrp/wisenews-scraper/wisenews.py - root - INFO - Logged in to HKU Library.\n",
      "2020-06-22 08:21:49 - /home/cathug/csrp/wisenews-scraper/wisenews.py - root - INFO - Accessed WiseNews Portal.\n",
      "2020-06-22 08:21:59 - /home/cathug/csrp/wisenews-scraper/wisenews.py - root - INFO - Set Search Parameters.\n"
     ]
    }
   ],
   "source": [
    "w = WiseNewsScraper()\n",
    "w.login_hku_library()\n",
    "w.get_wisenews_portal()\n",
    "w.search_local_news(keywords=Keywords.CSRP.terms, news_section=None)"
   ]
  },
  {
   "cell_type": "code",
   "execution_count": 3,
   "metadata": {
    "scrolled": false
   },
   "outputs": [
    {
     "name": "stderr",
     "output_type": "stream",
     "text": [
      "2020-06-22 08:22:12 - /home/cathug/csrp/wisenews-scraper/wisenews.py - root - INFO - Sending complete.\n",
      "2020-06-22 08:22:13 - /home/cathug/csrp/wisenews-scraper/wisenews.py - root - INFO - Log out of Wisenews\n",
      "2020-06-22 08:22:14 - /home/cathug/csrp/wisenews-scraper/wisenews.py - root - INFO - Logged out successfully.\n"
     ]
    }
   ],
   "source": [
    "w.email_news(email_title='CSRP in the News')\n",
    "w.teardown()                  "
   ]
  },
  {
   "cell_type": "code",
   "execution_count": 4,
   "metadata": {
    "scrolled": true
   },
   "outputs": [
    {
     "name": "stderr",
     "output_type": "stream",
     "text": [
      "2020-06-22 08:22:17 - /home/cathug/csrp/wisenews-scraper/wisenews.py - root - INFO - Initializing WisenewsScraper.\n",
      "2020-06-22 08:22:30 - /home/cathug/csrp/wisenews-scraper/wisenews.py - root - INFO - Logged in to HKU Library.\n",
      "2020-06-22 08:22:32 - /home/cathug/csrp/wisenews-scraper/wisenews.py - root - INFO - Accessed WiseNews Portal.\n",
      "2020-06-22 08:22:43 - /home/cathug/csrp/wisenews-scraper/wisenews.py - root - INFO - Set Search Parameters.\n"
     ]
    }
   ],
   "source": [
    "w = WiseNewsScraper()\n",
    "w.login_hku_library()\n",
    "w.get_wisenews_portal()\n",
    "w.search_local_news(keywords=Keywords.SUICIDE.terms)"
   ]
  },
  {
   "cell_type": "code",
   "execution_count": 5,
   "metadata": {
    "scrolled": false
   },
   "outputs": [
    {
     "name": "stderr",
     "output_type": "stream",
     "text": [
      "2020-06-22 08:23:00 - /home/cathug/csrp/wisenews-scraper/wisenews.py - root - INFO - Sending complete.\n",
      "2020-06-22 08:23:01 - /home/cathug/csrp/wisenews-scraper/wisenews.py - root - INFO - Log out of Wisenews\n",
      "2020-06-22 08:23:02 - /home/cathug/csrp/wisenews-scraper/wisenews.py - root - INFO - Logged out successfully.\n"
     ]
    }
   ],
   "source": [
    "w.email_news()\n",
    "w.teardown()"
   ]
  },
  {
   "cell_type": "code",
   "execution_count": null,
   "metadata": {},
   "outputs": [],
   "source": [
    "Keywords.SUICIDE"
   ]
  },
  {
   "cell_type": "code",
   "execution_count": null,
   "metadata": {},
   "outputs": [],
   "source": []
  },
  {
   "cell_type": "code",
   "execution_count": null,
   "metadata": {},
   "outputs": [],
   "source": []
  },
  {
   "cell_type": "code",
   "execution_count": null,
   "metadata": {},
   "outputs": [],
   "source": [
    "w = WiseNewsScraper()\n",
    "w.login_hku_library()\n",
    "w.get_wisenews_portal()\n",
    "w.search_local_news(\n",
    "    date_range=WisenewsDateRanges.YEAR_2020,\n",
    "    keywords=Keywords.CSRP.HELIUM.terms)"
   ]
  },
  {
   "cell_type": "code",
   "execution_count": null,
   "metadata": {},
   "outputs": [],
   "source": [
    "w.scrape_local_news()"
   ]
  },
  {
   "cell_type": "code",
   "execution_count": null,
   "metadata": {},
   "outputs": [],
   "source": [
    "w.load_scrapes_into_database(Keywords.CSRP.HELIUM.database_collection)"
   ]
  },
  {
   "cell_type": "code",
   "execution_count": null,
   "metadata": {},
   "outputs": [],
   "source": [
    "w.teardown()"
   ]
  },
  {
   "cell_type": "code",
   "execution_count": null,
   "metadata": {},
   "outputs": [],
   "source": []
  }
 ],
 "metadata": {
  "kernelspec": {
   "display_name": "Python 3",
   "language": "python",
   "name": "python3"
  },
  "language_info": {
   "codemirror_mode": {
    "name": "ipython",
    "version": 3
   },
   "file_extension": ".py",
   "mimetype": "text/x-python",
   "name": "python",
   "nbconvert_exporter": "python",
   "pygments_lexer": "ipython3",
   "version": "3.7.7"
  }
 },
 "nbformat": 4,
 "nbformat_minor": 2
}
